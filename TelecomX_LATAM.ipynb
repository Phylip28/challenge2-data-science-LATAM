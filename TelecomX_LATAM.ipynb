{
  "cells": [
    {
      "cell_type": "markdown",
      "metadata": {
        "id": "4foVEKhrlqcH"
      },
      "source": [
        "#📌 Extracción"
      ]
    },
    {
      "cell_type": "code",
      "execution_count": null,
      "metadata": {
        "id": "1--uPM88l7JH"
      },
      "outputs": [],
      "source": [
        "# ETAPA 1: EXTRACCIÓN (EXTRACT)\n",
        "import pandas as pd\n",
        "import json\n",
        "\n",
        "# Cargar los datos desde el archivo JSON local\n",
        "with open('TelecomX_Data.json', 'r', encoding='utf-8') as f:\n",
        "    data = json.load(f)\n",
        "\n",
        "# Si los datos están en una clave específica, ajústalo aquí\n",
        "# data = data['resultados']\n",
        "df = pd.DataFrame(data)\n",
        "print('Datos extraídos correctamente')\n",
        "\n",
        "df.head()"
      ]
    },
    {
      "cell_type": "markdown",
      "metadata": {
        "id": "1lSZP8zmmGZu"
      },
      "source": [
        "#🔧 Transformación"
      ]
    },
    {
      "cell_type": "code",
      "execution_count": null,
      "metadata": {
        "id": "bsm-WTLjmHvt"
      },
      "outputs": [],
      "source": [
        "# ETAPA 2: TRANSFORMACIÓN (TRANSFORM)\n",
        "# Aquí se realiza la limpieza y transformación de los datos\n",
        "\n",
        "# Ejemplo de limpieza: eliminar duplicados y valores nulos\n",
        "if not df.empty:\n",
        "    df = df.drop_duplicates()\n",
        "    df = df.dropna()\n",
        "    # Puedes agregar más transformaciones según el diccionario de datos\n",
        "    # Por ejemplo: cambiar tipos de datos, crear nuevas columnas, filtrar registros, etc.\n",
        "    print('Datos transformados correctamente')\n",
        "else:\n",
        "    print('No hay datos para transformar')\n",
        "\n",
        "df.head()"
      ]
    },
    {
      "cell_type": "markdown",
      "metadata": {
        "id": "6XnTC2NTmMRL"
      },
      "source": [
        "#📊 Carga y análisis"
      ]
    },
    {
      "cell_type": "code",
      "execution_count": null,
      "metadata": {
        "id": "1jgUnLqTmPdd"
      },
      "outputs": [],
      "source": [
        "# ETAPA 3: CARGA (LOAD)\n",
        "# Organiza los datos para análisis y visualización\n",
        "\n",
        "if not df.empty:\n",
        "    # Ejemplo: guardar el DataFrame limpio a un archivo CSV\n",
        "    df.to_csv('TelecomX_datos_limpios.csv', index=False)\n",
        "    print('Datos listos para análisis y visualización')\n",
        "else:\n",
        "    print('No hay datos para cargar')\n",
        "\n",
        "df.head()"
      ]
    },
    {
      "cell_type": "markdown",
      "metadata": {
        "id": "v-WzfSvTmaw9"
      },
      "source": [
        "#📄Informe final"
      ]
    },
    {
      "cell_type": "code",
      "execution_count": null,
      "metadata": {
        "id": "XMTac0YJmeK9"
      },
      "outputs": [],
      "source": [
        "# ANÁLISIS EXPLORATORIO Y VISUALIZACIÓN BÁSICA\n",
        "import matplotlib.pyplot as plt\n",
        "import seaborn as sns\n",
        "\n",
        "if not df.empty:\n",
        "    # Ejemplo: mostrar información general y estadísticas\n",
        "    display(df.info())\n",
        "    display(df.describe())\n",
        "    \n",
        "    # Ejemplo de visualización: histograma de la primera columna numérica\n",
        "    num_cols = df.select_dtypes(include='number').columns\n",
        "    if len(num_cols) > 0:\n",
        "        plt.figure(figsize=(8,4))\n",
        "        sns.histplot(df[num_cols[0]], kde=True)\n",
        "        plt.title(f'Distribución de {num_cols[0]}')\n",
        "        plt.show()\n",
        "    else:\n",
        "        print('No hay columnas numéricas para graficar')\n",
        "else:\n",
        "    print('No hay datos para analizar o visualizar')"
      ]
    }
  ],
  "metadata": {
    "colab": {
      "provenance": []
    },
    "kernelspec": {
      "display_name": "Python 3",
      "name": "python3"
    },
    "language_info": {
      "name": "python"
    }
  },
  "nbformat": 4,
  "nbformat_minor": 0
}
